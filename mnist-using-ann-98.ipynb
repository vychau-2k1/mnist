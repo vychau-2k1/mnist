{
 "cells": [
  {
   "cell_type": "code",
   "execution_count": 1,
   "id": "b6bad67c",
   "metadata": {
    "_cell_guid": "b1076dfc-b9ad-4769-8c92-a6c4dae69d19",
    "_uuid": "8f2839f25d086af736a60e9eeb907d3b93b6e0e5",
    "execution": {
     "iopub.execute_input": "2022-05-15T06:35:57.614431Z",
     "iopub.status.busy": "2022-05-15T06:35:57.613825Z",
     "iopub.status.idle": "2022-05-15T06:36:02.889498Z",
     "shell.execute_reply": "2022-05-15T06:36:02.888759Z"
    },
    "papermill": {
     "duration": 5.294661,
     "end_time": "2022-05-15T06:36:02.892098",
     "exception": false,
     "start_time": "2022-05-15T06:35:57.597437",
     "status": "completed"
    },
    "tags": []
   },
   "outputs": [],
   "source": [
    "import numpy as np\n",
    "from matplotlib import pyplot as plt\n",
    "import matplotlib.image as mpimg\n",
    "from tensorflow.keras.utils import to_categorical\n",
    "from keras.models import Sequential\n",
    "from keras.layers import Dense, Activation, Dropout\n",
    "from tensorflow.keras.optimizers import RMSprop\n",
    "import pandas as pd\n",
    "import tensorflow as tf"
   ]
  },
  {
   "cell_type": "code",
   "execution_count": 2,
   "id": "9a7309e3",
   "metadata": {
    "execution": {
     "iopub.execute_input": "2022-05-15T06:36:02.917168Z",
     "iopub.status.busy": "2022-05-15T06:36:02.916957Z",
     "iopub.status.idle": "2022-05-15T06:36:09.124683Z",
     "shell.execute_reply": "2022-05-15T06:36:09.123928Z"
    },
    "papermill": {
     "duration": 6.223396,
     "end_time": "2022-05-15T06:36:09.127230",
     "exception": false,
     "start_time": "2022-05-15T06:36:02.903834",
     "status": "completed"
    },
    "tags": []
   },
   "outputs": [],
   "source": [
    "def load_data(data_path):\n",
    "    data = pd.read_csv(data_path) #Read dataset from file csv\n",
    "    data = data.values #Load values\n",
    "    np.random.shuffle(data) #Shuffle dataset\n",
    "    x = data[:, 1:].reshape(-1, 28, 28, 1)/255.0\n",
    "    y = data[:, 0].astype(np.int32)\n",
    "    y = tf.keras.utils.to_categorical(y, 10)\n",
    "    return x, y\n",
    "X_train, y_train = load_data(\"../input/mnist-in-csv/mnist_train.csv\")\n",
    "X_test, y_test = load_data(\"../input/mnist-in-csv/mnist_test.csv\")\n",
    "X = X_test"
   ]
  },
  {
   "cell_type": "code",
   "execution_count": 3,
   "id": "c3a044e5",
   "metadata": {
    "execution": {
     "iopub.execute_input": "2022-05-15T06:36:09.151555Z",
     "iopub.status.busy": "2022-05-15T06:36:09.151347Z",
     "iopub.status.idle": "2022-05-15T06:36:09.243690Z",
     "shell.execute_reply": "2022-05-15T06:36:09.242817Z"
    },
    "papermill": {
     "duration": 0.107174,
     "end_time": "2022-05-15T06:36:09.246157",
     "exception": false,
     "start_time": "2022-05-15T06:36:09.138983",
     "status": "completed"
    },
    "tags": []
   },
   "outputs": [],
   "source": [
    "X_train = X_train.reshape(60000, 784)\n",
    "X_test = X_test.reshape(10000, 784)\n",
    "X_train = X_train.astype('float32')\n",
    "X_test = X_test.astype('float32')"
   ]
  },
  {
   "cell_type": "code",
   "execution_count": 4,
   "id": "b76c512a",
   "metadata": {
    "execution": {
     "iopub.execute_input": "2022-05-15T06:36:09.274283Z",
     "iopub.status.busy": "2022-05-15T06:36:09.274051Z",
     "iopub.status.idle": "2022-05-15T06:36:09.280040Z",
     "shell.execute_reply": "2022-05-15T06:36:09.279253Z"
    },
    "papermill": {
     "duration": 0.022848,
     "end_time": "2022-05-15T06:36:09.282506",
     "exception": false,
     "start_time": "2022-05-15T06:36:09.259658",
     "status": "completed"
    },
    "tags": []
   },
   "outputs": [
    {
     "name": "stdout",
     "output_type": "stream",
     "text": [
      "(60000, 784)\n",
      "(10000, 784)\n",
      "(60000, 10)\n",
      "(10000, 10)\n",
      "(10000, 28, 28, 1)\n"
     ]
    }
   ],
   "source": [
    "print(X_train.shape)\n",
    "print(X_test.shape)\n",
    "print(y_train.shape)\n",
    "print(y_test.shape)\n",
    "print(X.shape)"
   ]
  },
  {
   "cell_type": "code",
   "execution_count": 5,
   "id": "02eee792",
   "metadata": {
    "execution": {
     "iopub.execute_input": "2022-05-15T06:36:09.312828Z",
     "iopub.status.busy": "2022-05-15T06:36:09.312099Z",
     "iopub.status.idle": "2022-05-15T06:36:11.855442Z",
     "shell.execute_reply": "2022-05-15T06:36:11.854698Z"
    },
    "papermill": {
     "duration": 2.559419,
     "end_time": "2022-05-15T06:36:11.857079",
     "exception": false,
     "start_time": "2022-05-15T06:36:09.297660",
     "status": "completed"
    },
    "tags": []
   },
   "outputs": [
    {
     "name": "stderr",
     "output_type": "stream",
     "text": [
      "2022-05-15 06:36:09.399957: I tensorflow/stream_executor/cuda/cuda_gpu_executor.cc:937] successful NUMA node read from SysFS had negative value (-1), but there must be at least one NUMA node, so returning NUMA node zero\n"
     ]
    },
    {
     "name": "stdout",
     "output_type": "stream",
     "text": [
      "Model: \"sequential\"\n",
      "_________________________________________________________________\n",
      "Layer (type)                 Output Shape              Param #   \n",
      "=================================================================\n",
      "dense (Dense)                (None, 512)               401920    \n",
      "_________________________________________________________________\n",
      "dropout (Dropout)            (None, 512)               0         \n",
      "_________________________________________________________________\n",
      "dense_1 (Dense)              (None, 1024)              525312    \n",
      "_________________________________________________________________\n",
      "dropout_1 (Dropout)          (None, 1024)              0         \n",
      "_________________________________________________________________\n",
      "dense_2 (Dense)              (None, 1024)              1049600   \n",
      "_________________________________________________________________\n",
      "dropout_2 (Dropout)          (None, 1024)              0         \n",
      "_________________________________________________________________\n",
      "dense_3 (Dense)              (None, 512)               524800    \n",
      "_________________________________________________________________\n",
      "dropout_3 (Dropout)          (None, 512)               0         \n",
      "_________________________________________________________________\n",
      "dense_4 (Dense)              (None, 10)                5130      \n",
      "=================================================================\n",
      "Total params: 2,506,762\n",
      "Trainable params: 2,506,762\n",
      "Non-trainable params: 0\n",
      "_________________________________________________________________\n"
     ]
    },
    {
     "name": "stderr",
     "output_type": "stream",
     "text": [
      "2022-05-15 06:36:09.526422: I tensorflow/stream_executor/cuda/cuda_gpu_executor.cc:937] successful NUMA node read from SysFS had negative value (-1), but there must be at least one NUMA node, so returning NUMA node zero\n",
      "2022-05-15 06:36:09.527282: I tensorflow/stream_executor/cuda/cuda_gpu_executor.cc:937] successful NUMA node read from SysFS had negative value (-1), but there must be at least one NUMA node, so returning NUMA node zero\n",
      "2022-05-15 06:36:09.528988: I tensorflow/core/platform/cpu_feature_guard.cc:142] This TensorFlow binary is optimized with oneAPI Deep Neural Network Library (oneDNN) to use the following CPU instructions in performance-critical operations:  AVX2 AVX512F FMA\n",
      "To enable them in other operations, rebuild TensorFlow with the appropriate compiler flags.\n",
      "2022-05-15 06:36:09.529351: I tensorflow/stream_executor/cuda/cuda_gpu_executor.cc:937] successful NUMA node read from SysFS had negative value (-1), but there must be at least one NUMA node, so returning NUMA node zero\n",
      "2022-05-15 06:36:09.530168: I tensorflow/stream_executor/cuda/cuda_gpu_executor.cc:937] successful NUMA node read from SysFS had negative value (-1), but there must be at least one NUMA node, so returning NUMA node zero\n",
      "2022-05-15 06:36:09.530910: I tensorflow/stream_executor/cuda/cuda_gpu_executor.cc:937] successful NUMA node read from SysFS had negative value (-1), but there must be at least one NUMA node, so returning NUMA node zero\n",
      "2022-05-15 06:36:11.452759: I tensorflow/stream_executor/cuda/cuda_gpu_executor.cc:937] successful NUMA node read from SysFS had negative value (-1), but there must be at least one NUMA node, so returning NUMA node zero\n",
      "2022-05-15 06:36:11.453716: I tensorflow/stream_executor/cuda/cuda_gpu_executor.cc:937] successful NUMA node read from SysFS had negative value (-1), but there must be at least one NUMA node, so returning NUMA node zero\n",
      "2022-05-15 06:36:11.454473: I tensorflow/stream_executor/cuda/cuda_gpu_executor.cc:937] successful NUMA node read from SysFS had negative value (-1), but there must be at least one NUMA node, so returning NUMA node zero\n",
      "2022-05-15 06:36:11.455727: I tensorflow/core/common_runtime/gpu/gpu_device.cc:1510] Created device /job:localhost/replica:0/task:0/device:GPU:0 with 15403 MB memory:  -> device: 0, name: Tesla P100-PCIE-16GB, pci bus id: 0000:00:04.0, compute capability: 6.0\n"
     ]
    }
   ],
   "source": [
    "model = Sequential()\n",
    "model.add(Dense(512, activation = 'relu',input_shape=(784,)))\n",
    "model.add(Dropout(0.2))\n",
    "model.add(Dense(1024, activation = 'relu'))\n",
    "model.add(Dropout(0.2))\n",
    "model.add(Dense(1024, activation = 'relu'))\n",
    "model.add(Dropout(0.2))\n",
    "model.add(Dense(512, activation = 'relu'))\n",
    "model.add(Dropout(0.1))\n",
    "model.add(Dense(10, activation = 'softmax'))\n",
    "model.summary()"
   ]
  },
  {
   "cell_type": "code",
   "execution_count": 6,
   "id": "be0de600",
   "metadata": {
    "execution": {
     "iopub.execute_input": "2022-05-15T06:36:11.883716Z",
     "iopub.status.busy": "2022-05-15T06:36:11.883518Z",
     "iopub.status.idle": "2022-05-15T06:36:11.893956Z",
     "shell.execute_reply": "2022-05-15T06:36:11.893312Z"
    },
    "papermill": {
     "duration": 0.025581,
     "end_time": "2022-05-15T06:36:11.895715",
     "exception": false,
     "start_time": "2022-05-15T06:36:11.870134",
     "status": "completed"
    },
    "tags": []
   },
   "outputs": [],
   "source": [
    "model.compile(loss = 'categorical_crossentropy', optimizer = 'RMSprop', metrics = ['accuracy'])"
   ]
  },
  {
   "cell_type": "code",
   "execution_count": 7,
   "id": "27d05f28",
   "metadata": {
    "execution": {
     "iopub.execute_input": "2022-05-15T06:36:11.921855Z",
     "iopub.status.busy": "2022-05-15T06:36:11.921661Z",
     "iopub.status.idle": "2022-05-15T06:37:41.592242Z",
     "shell.execute_reply": "2022-05-15T06:37:41.591312Z"
    },
    "papermill": {
     "duration": 89.686305,
     "end_time": "2022-05-15T06:37:41.594584",
     "exception": false,
     "start_time": "2022-05-15T06:36:11.908279",
     "status": "completed"
    },
    "tags": []
   },
   "outputs": [
    {
     "name": "stderr",
     "output_type": "stream",
     "text": [
      "2022-05-15 06:36:12.481120: I tensorflow/compiler/mlir/mlir_graph_optimization_pass.cc:185] None of the MLIR Optimization Passes are enabled (registered 2)\n"
     ]
    },
    {
     "name": "stdout",
     "output_type": "stream",
     "text": [
      "Epoch 1/50\n",
      "469/469 [==============================] - 4s 4ms/step - loss: 0.3038 - accuracy: 0.9087 - val_loss: 0.1324 - val_accuracy: 0.9579\n",
      "Epoch 2/50\n",
      "469/469 [==============================] - 2s 4ms/step - loss: 0.1376 - accuracy: 0.9628 - val_loss: 0.0988 - val_accuracy: 0.9729\n",
      "Epoch 3/50\n",
      "469/469 [==============================] - 2s 4ms/step - loss: 0.1151 - accuracy: 0.9710 - val_loss: 0.1180 - val_accuracy: 0.9752\n",
      "Epoch 4/50\n",
      "469/469 [==============================] - 2s 3ms/step - loss: 0.1031 - accuracy: 0.9737 - val_loss: 0.1063 - val_accuracy: 0.9772\n",
      "Epoch 5/50\n",
      "469/469 [==============================] - 2s 4ms/step - loss: 0.0981 - accuracy: 0.9763 - val_loss: 0.1080 - val_accuracy: 0.9755\n",
      "Epoch 6/50\n",
      "469/469 [==============================] - 2s 4ms/step - loss: 0.0920 - accuracy: 0.9789 - val_loss: 0.1084 - val_accuracy: 0.9757\n",
      "Epoch 7/50\n",
      "469/469 [==============================] - 2s 4ms/step - loss: 0.0874 - accuracy: 0.9797 - val_loss: 0.1074 - val_accuracy: 0.9756\n",
      "Epoch 8/50\n",
      "469/469 [==============================] - 2s 4ms/step - loss: 0.0832 - accuracy: 0.9812 - val_loss: 0.1368 - val_accuracy: 0.9765\n",
      "Epoch 9/50\n",
      "469/469 [==============================] - 2s 3ms/step - loss: 0.0802 - accuracy: 0.9829 - val_loss: 0.1146 - val_accuracy: 0.9795\n",
      "Epoch 10/50\n",
      "469/469 [==============================] - 2s 3ms/step - loss: 0.0769 - accuracy: 0.9831 - val_loss: 0.1538 - val_accuracy: 0.9745\n",
      "Epoch 11/50\n",
      "469/469 [==============================] - 2s 3ms/step - loss: 0.0798 - accuracy: 0.9847 - val_loss: 0.1084 - val_accuracy: 0.9815\n",
      "Epoch 12/50\n",
      "469/469 [==============================] - 2s 4ms/step - loss: 0.0740 - accuracy: 0.9847 - val_loss: 0.1123 - val_accuracy: 0.9799\n",
      "Epoch 13/50\n",
      "469/469 [==============================] - 2s 4ms/step - loss: 0.0729 - accuracy: 0.9860 - val_loss: 0.1110 - val_accuracy: 0.9806\n",
      "Epoch 14/50\n",
      "469/469 [==============================] - 2s 4ms/step - loss: 0.0731 - accuracy: 0.9856 - val_loss: 0.1342 - val_accuracy: 0.9809\n",
      "Epoch 15/50\n",
      "469/469 [==============================] - 2s 4ms/step - loss: 0.0723 - accuracy: 0.9863 - val_loss: 0.1546 - val_accuracy: 0.9796\n",
      "Epoch 16/50\n",
      "469/469 [==============================] - 2s 3ms/step - loss: 0.0728 - accuracy: 0.9868 - val_loss: 0.1748 - val_accuracy: 0.9801\n",
      "Epoch 17/50\n",
      "469/469 [==============================] - 2s 4ms/step - loss: 0.0745 - accuracy: 0.9863 - val_loss: 0.1420 - val_accuracy: 0.9810\n",
      "Epoch 18/50\n",
      "469/469 [==============================] - 2s 4ms/step - loss: 0.0641 - accuracy: 0.9883 - val_loss: 0.1712 - val_accuracy: 0.9812\n",
      "Epoch 19/50\n",
      "469/469 [==============================] - 2s 4ms/step - loss: 0.0723 - accuracy: 0.9882 - val_loss: 0.1438 - val_accuracy: 0.9804\n",
      "Epoch 20/50\n",
      "469/469 [==============================] - 2s 4ms/step - loss: 0.0645 - accuracy: 0.9889 - val_loss: 0.1987 - val_accuracy: 0.9801\n",
      "Epoch 21/50\n",
      "469/469 [==============================] - 2s 4ms/step - loss: 0.0732 - accuracy: 0.9880 - val_loss: 0.1686 - val_accuracy: 0.9811\n",
      "Epoch 22/50\n",
      "469/469 [==============================] - 2s 4ms/step - loss: 0.0705 - accuracy: 0.9885 - val_loss: 0.1426 - val_accuracy: 0.9856\n",
      "Epoch 23/50\n",
      "469/469 [==============================] - 2s 4ms/step - loss: 0.0664 - accuracy: 0.9906 - val_loss: 0.2389 - val_accuracy: 0.9808\n",
      "Epoch 24/50\n",
      "469/469 [==============================] - 2s 4ms/step - loss: 0.0663 - accuracy: 0.9898 - val_loss: 0.2651 - val_accuracy: 0.9796\n",
      "Epoch 25/50\n",
      "469/469 [==============================] - 2s 4ms/step - loss: 0.0824 - accuracy: 0.9894 - val_loss: 0.1818 - val_accuracy: 0.9825\n",
      "Epoch 26/50\n",
      "469/469 [==============================] - 2s 4ms/step - loss: 0.0638 - accuracy: 0.9899 - val_loss: 0.1960 - val_accuracy: 0.9759\n",
      "Epoch 27/50\n",
      "469/469 [==============================] - 2s 4ms/step - loss: 0.0704 - accuracy: 0.9906 - val_loss: 0.1962 - val_accuracy: 0.9856\n",
      "Epoch 28/50\n",
      "469/469 [==============================] - 2s 4ms/step - loss: 0.0608 - accuracy: 0.9911 - val_loss: 0.2682 - val_accuracy: 0.9828\n",
      "Epoch 29/50\n",
      "469/469 [==============================] - 2s 4ms/step - loss: 0.0696 - accuracy: 0.9909 - val_loss: 0.1889 - val_accuracy: 0.9836\n",
      "Epoch 30/50\n",
      "469/469 [==============================] - 2s 4ms/step - loss: 0.0633 - accuracy: 0.9911 - val_loss: 0.2333 - val_accuracy: 0.9850\n",
      "Epoch 31/50\n",
      "469/469 [==============================] - 2s 4ms/step - loss: 0.0677 - accuracy: 0.9912 - val_loss: 0.2526 - val_accuracy: 0.9809\n",
      "Epoch 32/50\n",
      "469/469 [==============================] - 2s 4ms/step - loss: 0.0667 - accuracy: 0.9917 - val_loss: 0.4090 - val_accuracy: 0.9824\n",
      "Epoch 33/50\n",
      "469/469 [==============================] - 2s 4ms/step - loss: 0.0702 - accuracy: 0.9913 - val_loss: 0.3043 - val_accuracy: 0.9826\n",
      "Epoch 34/50\n",
      "469/469 [==============================] - 2s 4ms/step - loss: 0.0606 - accuracy: 0.9924 - val_loss: 0.2586 - val_accuracy: 0.9848\n",
      "Epoch 35/50\n",
      "469/469 [==============================] - 2s 4ms/step - loss: 0.0740 - accuracy: 0.9913 - val_loss: 0.2805 - val_accuracy: 0.9799\n",
      "Epoch 36/50\n",
      "469/469 [==============================] - 2s 4ms/step - loss: 0.0608 - accuracy: 0.9913 - val_loss: 0.3079 - val_accuracy: 0.9825\n",
      "Epoch 37/50\n",
      "469/469 [==============================] - 2s 4ms/step - loss: 0.0603 - accuracy: 0.9925 - val_loss: 0.3339 - val_accuracy: 0.9812\n",
      "Epoch 38/50\n",
      "469/469 [==============================] - 2s 3ms/step - loss: 0.0628 - accuracy: 0.9914 - val_loss: 0.3548 - val_accuracy: 0.9839\n",
      "Epoch 39/50\n",
      "469/469 [==============================] - 2s 3ms/step - loss: 0.0631 - accuracy: 0.9922 - val_loss: 0.3383 - val_accuracy: 0.9839\n",
      "Epoch 40/50\n",
      "469/469 [==============================] - 2s 4ms/step - loss: 0.0755 - accuracy: 0.9920 - val_loss: 0.3847 - val_accuracy: 0.9802\n",
      "Epoch 41/50\n",
      "469/469 [==============================] - 2s 3ms/step - loss: 0.0684 - accuracy: 0.9924 - val_loss: 0.3582 - val_accuracy: 0.9830\n",
      "Epoch 42/50\n",
      "469/469 [==============================] - 2s 4ms/step - loss: 0.0760 - accuracy: 0.9918 - val_loss: 0.3100 - val_accuracy: 0.9842\n",
      "Epoch 43/50\n",
      "469/469 [==============================] - 2s 4ms/step - loss: 0.0762 - accuracy: 0.9921 - val_loss: 0.2488 - val_accuracy: 0.9832\n",
      "Epoch 44/50\n",
      "469/469 [==============================] - 2s 3ms/step - loss: 0.0580 - accuracy: 0.9921 - val_loss: 0.4849 - val_accuracy: 0.9804\n",
      "Epoch 45/50\n",
      "469/469 [==============================] - 2s 4ms/step - loss: 0.0734 - accuracy: 0.9919 - val_loss: 0.3044 - val_accuracy: 0.9832\n",
      "Epoch 46/50\n",
      "469/469 [==============================] - 2s 4ms/step - loss: 0.0702 - accuracy: 0.9931 - val_loss: 0.4450 - val_accuracy: 0.9835\n",
      "Epoch 47/50\n",
      "469/469 [==============================] - 2s 4ms/step - loss: 0.0703 - accuracy: 0.9930 - val_loss: 0.4754 - val_accuracy: 0.9822\n",
      "Epoch 48/50\n",
      "469/469 [==============================] - 2s 4ms/step - loss: 0.0710 - accuracy: 0.9933 - val_loss: 0.5156 - val_accuracy: 0.9823\n",
      "Epoch 49/50\n",
      "469/469 [==============================] - 2s 4ms/step - loss: 0.0693 - accuracy: 0.9936 - val_loss: 0.3969 - val_accuracy: 0.9848\n",
      "Epoch 50/50\n",
      "469/469 [==============================] - 2s 4ms/step - loss: 0.0705 - accuracy: 0.9938 - val_loss: 0.4682 - val_accuracy: 0.9829\n"
     ]
    }
   ],
   "source": [
    "history = model.fit(X_train, y_train, batch_size = 128, epochs = 50, verbose = 1, validation_data = (X_test, y_test))"
   ]
  },
  {
   "cell_type": "code",
   "execution_count": 8,
   "id": "2e87a164",
   "metadata": {
    "execution": {
     "iopub.execute_input": "2022-05-15T06:37:42.601532Z",
     "iopub.status.busy": "2022-05-15T06:37:42.600894Z",
     "iopub.status.idle": "2022-05-15T06:37:43.556796Z",
     "shell.execute_reply": "2022-05-15T06:37:43.556090Z"
    },
    "papermill": {
     "duration": 1.474283,
     "end_time": "2022-05-15T06:37:43.559688",
     "exception": false,
     "start_time": "2022-05-15T06:37:42.085405",
     "status": "completed"
    },
    "tags": []
   },
   "outputs": [
    {
     "name": "stdout",
     "output_type": "stream",
     "text": [
      "313/313 [==============================] - 1s 3ms/step - loss: 0.4682 - accuracy: 0.9829\n"
     ]
    }
   ],
   "source": [
    "score = model.evaluate(X_test, y_test, verbose = 1)"
   ]
  },
  {
   "cell_type": "code",
   "execution_count": 9,
   "id": "0f97ddb4",
   "metadata": {
    "execution": {
     "iopub.execute_input": "2022-05-15T06:37:44.857154Z",
     "iopub.status.busy": "2022-05-15T06:37:44.856859Z",
     "iopub.status.idle": "2022-05-15T06:37:45.055497Z",
     "shell.execute_reply": "2022-05-15T06:37:45.054881Z"
    },
    "papermill": {
     "duration": 0.701846,
     "end_time": "2022-05-15T06:37:45.057202",
     "exception": false,
     "start_time": "2022-05-15T06:37:44.355356",
     "status": "completed"
    },
    "tags": []
   },
   "outputs": [
    {
     "data": {
      "text/plain": [
       "<matplotlib.legend.Legend at 0x7f9222df6750>"
      ]
     },
     "execution_count": 9,
     "metadata": {},
     "output_type": "execute_result"
    },
    {
     "data": {
      "image/png": "[encoded data removed]",
      "text/plain": [
       "<Figure size 432x288 with 1 Axes>"
      ]
     },
     "metadata": {
      "needs_background": "light"
     },
     "output_type": "display_data"
    }
   ],
   "source": [
    "plt.plot(history.history['accuracy'])\n",
    "plt.plot(history.history['val_accuracy'])\n",
    "plt.title('Model Accuracy')\n",
    "plt.ylabel('accuracy')\n",
    "plt.xlabel('epoch')\n",
    "plt.legend(['train','validation'], loc = 'upper left')"
   ]
  },
  {
   "cell_type": "code",
   "execution_count": 10,
   "id": "a2bed400",
   "metadata": {
    "execution": {
     "iopub.execute_input": "2022-05-15T06:37:46.050568Z",
     "iopub.status.busy": "2022-05-15T06:37:46.049900Z",
     "iopub.status.idle": "2022-05-15T06:37:46.108529Z",
     "shell.execute_reply": "2022-05-15T06:37:46.107802Z"
    },
    "papermill": {
     "duration": 0.557907,
     "end_time": "2022-05-15T06:37:46.110531",
     "exception": false,
     "start_time": "2022-05-15T06:37:45.552624",
     "status": "completed"
    },
    "tags": []
   },
   "outputs": [],
   "source": [
    "model.save('mnist_ann.h5')"
   ]
  },
  {
   "cell_type": "code",
   "execution_count": 11,
   "id": "9b2cbc7c",
   "metadata": {
    "execution": {
     "iopub.execute_input": "2022-05-15T06:37:47.112341Z",
     "iopub.status.busy": "2022-05-15T06:37:47.111779Z",
     "iopub.status.idle": "2022-05-15T06:37:47.558682Z",
     "shell.execute_reply": "2022-05-15T06:37:47.557928Z"
    },
    "papermill": {
     "duration": 0.953175,
     "end_time": "2022-05-15T06:37:47.561295",
     "exception": false,
     "start_time": "2022-05-15T06:37:46.608120",
     "status": "completed"
    },
    "tags": []
   },
   "outputs": [],
   "source": [
    "y_pred = model.predict(X_test)"
   ]
  },
  {
   "cell_type": "code",
   "execution_count": 12,
   "id": "af3c16f1",
   "metadata": {
    "execution": {
     "iopub.execute_input": "2022-05-15T06:37:48.676029Z",
     "iopub.status.busy": "2022-05-15T06:37:48.675653Z",
     "iopub.status.idle": "2022-05-15T06:37:49.823432Z",
     "shell.execute_reply": "2022-05-15T06:37:49.822116Z"
    },
    "papermill": {
     "duration": 1.710915,
     "end_time": "2022-05-15T06:37:49.827172",
     "exception": false,
     "start_time": "2022-05-15T06:37:48.116257",
     "status": "completed"
    },
    "tags": []
   },
   "outputs": [
    {
     "data": {
      "image/png": "[encoded data removed]",
      "text/plain": [
       "<Figure size 432x288 with 1 Axes>"
      ]
     },
     "metadata": {
      "needs_background": "light"
     },
     "output_type": "display_data"
    },
    {
     "name": "stdout",
     "output_type": "stream",
     "text": [
      "[0. 0. 0. 1. 0. 0. 0. 0. 0. 0.]\n"
     ]
    },
    {
     "data": {
      "image/png": "[encoded data removed]",
      "text/plain": [
       "<Figure size 432x288 with 1 Axes>"
      ]
     },
     "metadata": {
      "needs_background": "light"
     },
     "output_type": "display_data"
    },
    {
     "name": "stdout",
     "output_type": "stream",
     "text": [
      "[1. 0. 0. 0. 0. 0. 0. 0. 0. 0.]\n"
     ]
    },
    {
     "data": {
      "image/png": "[encoded data removed]",
      "text/plain": [
       "<Figure size 432x288 with 1 Axes>"
      ]
     },
     "metadata": {
      "needs_background": "light"
     },
     "output_type": "display_data"
    },
    {
     "name": "stdout",
     "output_type": "stream",
     "text": [
      "[0. 0. 0. 0. 0. 0. 0. 0. 0. 1.]\n"
     ]
    },
    {
     "data": {
      "image/png": "[encoded data removed]",
      "text/plain": [
       "<Figure size 432x288 with 1 Axes>"
      ]
     },
     "metadata": {
      "needs_background": "light"
     },
     "output_type": "display_data"
    },
    {
     "name": "stdout",
     "output_type": "stream",
     "text": [
      "[0. 0. 0. 0. 1. 0. 0. 0. 0. 0.]\n"
     ]
    },
    {
     "data": {
      "image/png": "[encoded data removed]",
      "text/plain": [
       "<Figure size 432x288 with 1 Axes>"
      ]
     },
     "metadata": {
      "needs_background": "light"
     },
     "output_type": "display_data"
    },
    {
     "name": "stdout",
     "output_type": "stream",
     "text": [
      "[0. 0. 0. 0. 0. 0. 0. 0. 1. 0.]\n"
     ]
    },
    {
     "data": {
      "image/png": "[encoded data removed]",
      "text/plain": [
       "<Figure size 432x288 with 1 Axes>"
      ]
     },
     "metadata": {
      "needs_background": "light"
     },
     "output_type": "display_data"
    },
    {
     "name": "stdout",
     "output_type": "stream",
     "text": [
      "[0. 0. 0. 0. 0. 0. 0. 0. 1. 0.]\n"
     ]
    },
    {
     "data": {
      "image/png": "[encoded data removed]",
      "text/plain": [
       "<Figure size 432x288 with 1 Axes>"
      ]
     },
     "metadata": {
      "needs_background": "light"
     },
     "output_type": "display_data"
    },
    {
     "name": "stdout",
     "output_type": "stream",
     "text": [
      "[0. 0. 0. 1. 0. 0. 0. 0. 0. 0.]\n"
     ]
    },
    {
     "data": {
      "image/png": "[encoded data removed]",
      "text/plain": [
       "<Figure size 432x288 with 1 Axes>"
      ]
     },
     "metadata": {
      "needs_background": "light"
     },
     "output_type": "display_data"
    },
    {
     "name": "stdout",
     "output_type": "stream",
     "text": [
      "[1. 0. 0. 0. 0. 0. 0. 0. 0. 0.]\n"
     ]
    },
    {
     "data": {
      "image/png": "[encoded data removed]",
      "text/plain": [
       "<Figure size 432x288 with 1 Axes>"
      ]
     },
     "metadata": {
      "needs_background": "light"
     },
     "output_type": "display_data"
    },
    {
     "name": "stdout",
     "output_type": "stream",
     "text": [
      "[0. 0. 0. 0. 0. 0. 0. 0. 1. 0.]\n"
     ]
    }
   ],
   "source": [
    "for i in range(9):\n",
    "  plt.subplot(330 + i +1)\n",
    "  plt.imshow(X[10+i])\n",
    "  plt.show()  \n",
    "  print(np.round(y_pred[10+i]))"
   ]
  },
  {
   "cell_type": "code",
   "execution_count": null,
   "id": "44a983bb",
   "metadata": {
    "papermill": {
     "duration": 0.507873,
     "end_time": "2022-05-15T06:37:50.877691",
     "exception": false,
     "start_time": "2022-05-15T06:37:50.369818",
     "status": "completed"
    },
    "tags": []
   },
   "outputs": [],
   "source": []
  }
 ],
 "metadata": {
  "kernelspec": {
   "display_name": "Python 3",
   "language": "python",
   "name": "python3"
  },
  "language_info": {
   "codemirror_mode": {
    "name": "ipython",
    "version": 3
   },
   "file_extension": ".py",
   "mimetype": "text/x-python",
   "name": "python",
   "nbconvert_exporter": "python",
   "pygments_lexer": "ipython3",
   "version": "3.7.12"
  },
  "papermill": {
   "default_parameters": {},
   "duration": 124.528291,
   "end_time": "2022-05-15T06:37:54.350229",
   "environment_variables": {},
   "exception": null,
   "input_path": "__notebook__.ipynb",
   "output_path": "__notebook__.ipynb",
   "parameters": {},
   "start_time": "2022-05-15T06:35:49.821938",
   "version": "2.3.4"
  }
 },
 "nbformat": 4,
 "nbformat_minor": 5
}
