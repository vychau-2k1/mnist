{
 "cells": [
  {
   "cell_type": "code",
   "execution_count": 1,
   "id": "127ddde2",
   "metadata": {
    "_cell_guid": "b1076dfc-b9ad-4769-8c92-a6c4dae69d19",
    "_uuid": "8f2839f25d086af736a60e9eeb907d3b93b6e0e5",
    "execution": {
     "iopub.execute_input": "2022-05-16T03:18:43.585344Z",
     "iopub.status.busy": "2022-05-16T03:18:43.584688Z",
     "iopub.status.idle": "2022-05-16T03:18:49.170660Z",
     "shell.execute_reply": "2022-05-16T03:18:49.169731Z"
    },
    "papermill": {
     "duration": 5.60215,
     "end_time": "2022-05-16T03:18:49.172796",
     "exception": false,
     "start_time": "2022-05-16T03:18:43.570646",
     "status": "completed"
    },
    "tags": []
   },
   "outputs": [],
   "source": [
    "import numpy as np\n",
    "from matplotlib import pyplot as plt\n",
    "import matplotlib.image as mpimg\n",
    "from tensorflow.keras.utils import to_categorical\n",
    "from keras.models import Sequential\n",
    "from keras.layers import Dense, Activation, Dropout, Conv2D, MaxPooling2D\n",
    "from tensorflow.keras.optimizers import SGD\n",
    "import pandas as pd\n",
    "import tensorflow as tf\n",
    "from keras.layers.core import Flatten"
   ]
  },
  {
   "cell_type": "code",
   "execution_count": 2,
   "id": "c0dd6ffc",
   "metadata": {
    "execution": {
     "iopub.execute_input": "2022-05-16T03:18:49.196969Z",
     "iopub.status.busy": "2022-05-16T03:18:49.196609Z",
     "iopub.status.idle": "2022-05-16T03:18:55.260910Z",
     "shell.execute_reply": "2022-05-16T03:18:55.260187Z"
    },
    "papermill": {
     "duration": 6.079224,
     "end_time": "2022-05-16T03:18:55.263279",
     "exception": false,
     "start_time": "2022-05-16T03:18:49.184055",
     "status": "completed"
    },
    "tags": []
   },
   "outputs": [],
   "source": [
    "def load_data(data_path):\n",
    "    data = pd.read_csv(data_path) #Read dataset from file csv\n",
    "    data = data.values #Load values\n",
    "    np.random.shuffle(data) #Shuffle dataset\n",
    "    x = data[:, 1:].reshape(-1, 28, 28, 1)\n",
    "    y = data[:, 0].astype(np.int32)\n",
    "    y = tf.keras.utils.to_categorical(y, 10)\n",
    "    return x, y\n",
    "X_train, y_train = load_data(\"../input/mnist-in-csv/mnist_train.csv\")\n",
    "X_test, y_test = load_data(\"../input/mnist-in-csv/mnist_test.csv\")\n",
    "X = X_test"
   ]
  },
  {
   "cell_type": "code",
   "execution_count": 3,
   "id": "dbd4f948",
   "metadata": {
    "execution": {
     "iopub.execute_input": "2022-05-16T03:18:55.286284Z",
     "iopub.status.busy": "2022-05-16T03:18:55.286051Z",
     "iopub.status.idle": "2022-05-16T03:18:55.398518Z",
     "shell.execute_reply": "2022-05-16T03:18:55.397786Z"
    },
    "papermill": {
     "duration": 0.126247,
     "end_time": "2022-05-16T03:18:55.400733",
     "exception": false,
     "start_time": "2022-05-16T03:18:55.274486",
     "status": "completed"
    },
    "tags": []
   },
   "outputs": [],
   "source": [
    "X_train = X_train.astype('float32')\n",
    "X_test = X_test.astype('float32')\n",
    "X_train /= 255\n",
    "X_test /= 255"
   ]
  },
  {
   "cell_type": "code",
   "execution_count": 4,
   "id": "6585de2c",
   "metadata": {
    "execution": {
     "iopub.execute_input": "2022-05-16T03:18:55.424154Z",
     "iopub.status.busy": "2022-05-16T03:18:55.423925Z",
     "iopub.status.idle": "2022-05-16T03:18:55.428846Z",
     "shell.execute_reply": "2022-05-16T03:18:55.428177Z"
    },
    "papermill": {
     "duration": 0.020528,
     "end_time": "2022-05-16T03:18:55.432468",
     "exception": false,
     "start_time": "2022-05-16T03:18:55.411940",
     "status": "completed"
    },
    "tags": []
   },
   "outputs": [
    {
     "name": "stdout",
     "output_type": "stream",
     "text": [
      "(60000, 28, 28, 1)\n",
      "(10000, 28, 28, 1)\n",
      "(60000, 10)\n",
      "(10000, 10)\n"
     ]
    }
   ],
   "source": [
    "print(X_train.shape)\n",
    "print(X_test.shape)\n",
    "print(y_train.shape)\n",
    "print(y_test.shape)"
   ]
  },
  {
   "cell_type": "code",
   "execution_count": 5,
   "id": "a6b6934a",
   "metadata": {
    "execution": {
     "iopub.execute_input": "2022-05-16T03:18:55.458164Z",
     "iopub.status.busy": "2022-05-16T03:18:55.457613Z",
     "iopub.status.idle": "2022-05-16T03:18:57.980247Z",
     "shell.execute_reply": "2022-05-16T03:18:57.979357Z"
    },
    "papermill": {
     "duration": 2.537367,
     "end_time": "2022-05-16T03:18:57.982977",
     "exception": false,
     "start_time": "2022-05-16T03:18:55.445610",
     "status": "completed"
    },
    "tags": []
   },
   "outputs": [
    {
     "name": "stderr",
     "output_type": "stream",
     "text": [
      "2022-05-16 03:18:55.545483: I tensorflow/stream_executor/cuda/cuda_gpu_executor.cc:937] successful NUMA node read from SysFS had negative value (-1), but there must be at least one NUMA node, so returning NUMA node zero\n",
      "2022-05-16 03:18:55.651300: I tensorflow/stream_executor/cuda/cuda_gpu_executor.cc:937] successful NUMA node read from SysFS had negative value (-1), but there must be at least one NUMA node, so returning NUMA node zero\n",
      "2022-05-16 03:18:55.652202: I tensorflow/stream_executor/cuda/cuda_gpu_executor.cc:937] successful NUMA node read from SysFS had negative value (-1), but there must be at least one NUMA node, so returning NUMA node zero\n",
      "2022-05-16 03:18:55.653597: I tensorflow/core/platform/cpu_feature_guard.cc:142] This TensorFlow binary is optimized with oneAPI Deep Neural Network Library (oneDNN) to use the following CPU instructions in performance-critical operations:  AVX2 AVX512F FMA\n",
      "To enable them in other operations, rebuild TensorFlow with the appropriate compiler flags.\n",
      "2022-05-16 03:18:55.653864: I tensorflow/stream_executor/cuda/cuda_gpu_executor.cc:937] successful NUMA node read from SysFS had negative value (-1), but there must be at least one NUMA node, so returning NUMA node zero\n",
      "2022-05-16 03:18:55.654832: I tensorflow/stream_executor/cuda/cuda_gpu_executor.cc:937] successful NUMA node read from SysFS had negative value (-1), but there must be at least one NUMA node, so returning NUMA node zero\n",
      "2022-05-16 03:18:55.655699: I tensorflow/stream_executor/cuda/cuda_gpu_executor.cc:937] successful NUMA node read from SysFS had negative value (-1), but there must be at least one NUMA node, so returning NUMA node zero\n",
      "2022-05-16 03:18:57.569858: I tensorflow/stream_executor/cuda/cuda_gpu_executor.cc:937] successful NUMA node read from SysFS had negative value (-1), but there must be at least one NUMA node, so returning NUMA node zero\n",
      "2022-05-16 03:18:57.570732: I tensorflow/stream_executor/cuda/cuda_gpu_executor.cc:937] successful NUMA node read from SysFS had negative value (-1), but there must be at least one NUMA node, so returning NUMA node zero\n",
      "2022-05-16 03:18:57.571380: I tensorflow/stream_executor/cuda/cuda_gpu_executor.cc:937] successful NUMA node read from SysFS had negative value (-1), but there must be at least one NUMA node, so returning NUMA node zero\n",
      "2022-05-16 03:18:57.572566: I tensorflow/core/common_runtime/gpu/gpu_device.cc:1510] Created device /job:localhost/replica:0/task:0/device:GPU:0 with 15403 MB memory:  -> device: 0, name: Tesla P100-PCIE-16GB, pci bus id: 0000:00:04.0, compute capability: 6.0\n"
     ]
    }
   ],
   "source": [
    "\n",
    "model = Sequential()\n",
    "model.add(Conv2D(32, (3, 3), activation = 'relu', kernel_initializer='he_uniform', padding = 'same', input_shape = (28, 28, 1)))\n",
    "model.add(Conv2D(32, (3, 3), activation = 'relu', kernel_initializer='he_uniform', padding = 'same', input_shape = (28, 28, 1)))\n",
    "model.add(MaxPooling2D((2,2)))\n",
    "model.add(Conv2D(64, (3, 3), activation = 'relu', kernel_initializer='he_uniform', padding = 'same'))\n",
    "model.add(Conv2D(64, (3, 3), activation = 'relu', kernel_initializer='he_uniform', padding = 'same'))\n",
    "model.add(MaxPooling2D((3, 3)))\n",
    "model.add(Conv2D(128, (3, 3), activation = 'relu', kernel_initializer='he_uniform', padding = 'same'))\n",
    "model.add(Conv2D(128, (3, 3), activation = 'relu', kernel_initializer='he_uniform', padding = 'same'))\n",
    "model.add(MaxPooling2D((3, 3)))\n",
    "#Add Flatten\n",
    "model.add(Flatten())\n",
    "model.add(Dense(128, activation = 'relu', kernel_initializer='he_uniform'))\n",
    "model.add(Dense(10, activation = 'softmax'))"
   ]
  },
  {
   "cell_type": "code",
   "execution_count": 6,
   "id": "8e76d6f4",
   "metadata": {
    "execution": {
     "iopub.execute_input": "2022-05-16T03:18:58.007433Z",
     "iopub.status.busy": "2022-05-16T03:18:58.007175Z",
     "iopub.status.idle": "2022-05-16T03:18:58.019112Z",
     "shell.execute_reply": "2022-05-16T03:18:58.018444Z"
    },
    "papermill": {
     "duration": 0.026542,
     "end_time": "2022-05-16T03:18:58.021201",
     "exception": false,
     "start_time": "2022-05-16T03:18:57.994659",
     "status": "completed"
    },
    "tags": []
   },
   "outputs": [
    {
     "name": "stderr",
     "output_type": "stream",
     "text": [
      "/opt/conda/lib/python3.7/site-packages/keras/optimizer_v2/optimizer_v2.py:356: UserWarning: The `lr` argument is deprecated, use `learning_rate` instead.\n",
      "  \"The `lr` argument is deprecated, use `learning_rate` instead.\")\n"
     ]
    }
   ],
   "source": [
    "opt = SGD(lr = 0.01, momentum = 0.9)\n",
    "model.compile(optimizer=opt, loss = 'categorical_crossentropy', metrics=['accuracy'])"
   ]
  },
  {
   "cell_type": "code",
   "execution_count": 7,
   "id": "1a8b1dc4",
   "metadata": {
    "execution": {
     "iopub.execute_input": "2022-05-16T03:18:58.047297Z",
     "iopub.status.busy": "2022-05-16T03:18:58.046695Z",
     "iopub.status.idle": "2022-05-16T03:20:22.820730Z",
     "shell.execute_reply": "2022-05-16T03:20:22.819741Z"
    },
    "papermill": {
     "duration": 84.788929,
     "end_time": "2022-05-16T03:20:22.822911",
     "exception": false,
     "start_time": "2022-05-16T03:18:58.033982",
     "status": "completed"
    },
    "tags": []
   },
   "outputs": [
    {
     "name": "stderr",
     "output_type": "stream",
     "text": [
      "2022-05-16 03:18:58.533676: I tensorflow/compiler/mlir/mlir_graph_optimization_pass.cc:185] None of the MLIR Optimization Passes are enabled (registered 2)\n"
     ]
    },
    {
     "name": "stdout",
     "output_type": "stream",
     "text": [
      "Epoch 1/15\n"
     ]
    },
    {
     "name": "stderr",
     "output_type": "stream",
     "text": [
      "2022-05-16 03:18:59.830468: I tensorflow/stream_executor/cuda/cuda_dnn.cc:369] Loaded cuDNN version 8005\n"
     ]
    },
    {
     "name": "stdout",
     "output_type": "stream",
     "text": [
      "938/938 [==============================] - 13s 6ms/step - loss: 0.2074 - accuracy: 0.9359 - val_loss: 0.0458 - val_accuracy: 0.9855\n",
      "Epoch 2/15\n",
      "938/938 [==============================] - 5s 6ms/step - loss: 0.0395 - accuracy: 0.9876 - val_loss: 0.0311 - val_accuracy: 0.9898\n",
      "Epoch 3/15\n",
      "938/938 [==============================] - 5s 5ms/step - loss: 0.0270 - accuracy: 0.9920 - val_loss: 0.0344 - val_accuracy: 0.9879\n",
      "Epoch 4/15\n",
      "938/938 [==============================] - 5s 5ms/step - loss: 0.0193 - accuracy: 0.9937 - val_loss: 0.0277 - val_accuracy: 0.9920\n",
      "Epoch 5/15\n",
      "938/938 [==============================] - 5s 6ms/step - loss: 0.0144 - accuracy: 0.9955 - val_loss: 0.0262 - val_accuracy: 0.9920\n",
      "Epoch 6/15\n",
      "938/938 [==============================] - 5s 5ms/step - loss: 0.0107 - accuracy: 0.9965 - val_loss: 0.0296 - val_accuracy: 0.9918\n",
      "Epoch 7/15\n",
      "938/938 [==============================] - 5s 5ms/step - loss: 0.0091 - accuracy: 0.9969 - val_loss: 0.0220 - val_accuracy: 0.9938\n",
      "Epoch 8/15\n",
      "938/938 [==============================] - 5s 6ms/step - loss: 0.0066 - accuracy: 0.9978 - val_loss: 0.0248 - val_accuracy: 0.9929\n",
      "Epoch 9/15\n",
      "938/938 [==============================] - 5s 5ms/step - loss: 0.0049 - accuracy: 0.9985 - val_loss: 0.0271 - val_accuracy: 0.9933\n",
      "Epoch 10/15\n",
      "938/938 [==============================] - 5s 5ms/step - loss: 0.0046 - accuracy: 0.9985 - val_loss: 0.0316 - val_accuracy: 0.9929\n",
      "Epoch 11/15\n",
      "938/938 [==============================] - 5s 6ms/step - loss: 0.0047 - accuracy: 0.9984 - val_loss: 0.0311 - val_accuracy: 0.9920\n",
      "Epoch 12/15\n",
      "938/938 [==============================] - 5s 5ms/step - loss: 0.0029 - accuracy: 0.9991 - val_loss: 0.0289 - val_accuracy: 0.9933\n",
      "Epoch 13/15\n",
      "938/938 [==============================] - 5s 5ms/step - loss: 0.0010 - accuracy: 0.9997 - val_loss: 0.0347 - val_accuracy: 0.9931\n",
      "Epoch 14/15\n",
      "938/938 [==============================] - 5s 6ms/step - loss: 3.9200e-04 - accuracy: 0.9999 - val_loss: 0.0269 - val_accuracy: 0.9942\n",
      "Epoch 15/15\n",
      "938/938 [==============================] - 5s 5ms/step - loss: 6.2190e-05 - accuracy: 1.0000 - val_loss: 0.0278 - val_accuracy: 0.9941\n"
     ]
    }
   ],
   "source": [
    "history = model.fit(X_train, y_train, epochs = 15, batch_size=64, validation_data=(X_test, y_test), verbose= 1)"
   ]
  },
  {
   "cell_type": "code",
   "execution_count": 8,
   "id": "32ce112e",
   "metadata": {
    "execution": {
     "iopub.execute_input": "2022-05-16T03:20:23.776807Z",
     "iopub.status.busy": "2022-05-16T03:20:23.776375Z",
     "iopub.status.idle": "2022-05-16T03:20:24.792065Z",
     "shell.execute_reply": "2022-05-16T03:20:24.791353Z"
    },
    "papermill": {
     "duration": 1.547679,
     "end_time": "2022-05-16T03:20:24.793806",
     "exception": false,
     "start_time": "2022-05-16T03:20:23.246127",
     "status": "completed"
    },
    "tags": []
   },
   "outputs": [
    {
     "name": "stdout",
     "output_type": "stream",
     "text": [
      "313/313 [==============================] - 1s 3ms/step - loss: 0.0278 - accuracy: 0.9941\n"
     ]
    }
   ],
   "source": [
    "score = model.evaluate(X_test, y_test, verbose = 1)"
   ]
  },
  {
   "cell_type": "code",
   "execution_count": 9,
   "id": "c8e6c31f",
   "metadata": {
    "execution": {
     "iopub.execute_input": "2022-05-16T03:20:25.672166Z",
     "iopub.status.busy": "2022-05-16T03:20:25.671918Z",
     "iopub.status.idle": "2022-05-16T03:20:25.720298Z",
     "shell.execute_reply": "2022-05-16T03:20:25.719635Z"
    },
    "papermill": {
     "duration": 0.4936,
     "end_time": "2022-05-16T03:20:25.722126",
     "exception": false,
     "start_time": "2022-05-16T03:20:25.228526",
     "status": "completed"
    },
    "tags": []
   },
   "outputs": [],
   "source": [
    "model.save('mnist_cnn.h5')"
   ]
  },
  {
   "cell_type": "code",
   "execution_count": 10,
   "id": "7a02e600",
   "metadata": {
    "execution": {
     "iopub.execute_input": "2022-05-16T03:20:26.592390Z",
     "iopub.status.busy": "2022-05-16T03:20:26.592138Z",
     "iopub.status.idle": "2022-05-16T03:20:26.802598Z",
     "shell.execute_reply": "2022-05-16T03:20:26.801851Z"
    },
    "papermill": {
     "duration": 0.648321,
     "end_time": "2022-05-16T03:20:26.804502",
     "exception": false,
     "start_time": "2022-05-16T03:20:26.156181",
     "status": "completed"
    },
    "tags": []
   },
   "outputs": [
    {
     "data": {
      "text/plain": [
       "<matplotlib.legend.Legend at 0x7fd069546ed0>"
      ]
     },
     "execution_count": 10,
     "metadata": {},
     "output_type": "execute_result"
    },
    {
     "data": {
      "image/png": "[encoded data removed]",
      "text/plain": [
       "<Figure size 432x288 with 1 Axes>"
      ]
     },
     "metadata": {
      "needs_background": "light"
     },
     "output_type": "display_data"
    }
   ],
   "source": [
    "plt.plot(history.history['accuracy'])\n",
    "plt.plot(history.history['val_accuracy'])\n",
    "plt.title('Model Accuracy')\n",
    "plt.ylabel('accuracy')\n",
    "plt.xlabel('epoch')\n",
    "plt.legend(['train','validation'], loc = 'upper left')"
   ]
  },
  {
   "cell_type": "code",
   "execution_count": 11,
   "id": "b9dbbd3f",
   "metadata": {
    "execution": {
     "iopub.execute_input": "2022-05-16T03:20:27.670533Z",
     "iopub.status.busy": "2022-05-16T03:20:27.670254Z",
     "iopub.status.idle": "2022-05-16T03:20:29.514348Z",
     "shell.execute_reply": "2022-05-16T03:20:29.513263Z"
    },
    "papermill": {
     "duration": 2.281422,
     "end_time": "2022-05-16T03:20:29.517694",
     "exception": false,
     "start_time": "2022-05-16T03:20:27.236272",
     "status": "completed"
    },
    "tags": []
   },
   "outputs": [
    {
     "data": {
      "image/png": "[encoded data removed]",
      "text/plain": [
       "<Figure size 432x288 with 1 Axes>"
      ]
     },
     "metadata": {
      "needs_background": "light"
     },
     "output_type": "display_data"
    },
    {
     "name": "stdout",
     "output_type": "stream",
     "text": [
      "[1. 0. 0. 0. 0. 0. 0. 0. 0. 0.]\n"
     ]
    },
    {
     "data": {
      "image/png": "[encoded data removed]",
      "text/plain": [
       "<Figure size 432x288 with 1 Axes>"
      ]
     },
     "metadata": {
      "needs_background": "light"
     },
     "output_type": "display_data"
    },
    {
     "name": "stdout",
     "output_type": "stream",
     "text": [
      "[0. 0. 0. 0. 0. 0. 0. 0. 0. 1.]\n"
     ]
    },
    {
     "data": {
      "image/png": "[encoded data removed]",
      "text/plain": [
       "<Figure size 432x288 with 1 Axes>"
      ]
     },
     "metadata": {
      "needs_background": "light"
     },
     "output_type": "display_data"
    },
    {
     "name": "stdout",
     "output_type": "stream",
     "text": [
      "[0. 0. 0. 0. 0. 0. 0. 1. 0. 0.]\n"
     ]
    },
    {
     "data": {
      "image/png": "[encoded data removed]",
      "text/plain": [
       "<Figure size 432x288 with 1 Axes>"
      ]
     },
     "metadata": {
      "needs_background": "light"
     },
     "output_type": "display_data"
    },
    {
     "name": "stdout",
     "output_type": "stream",
     "text": [
      "[0. 0. 0. 0. 0. 0. 0. 1. 0. 0.]\n"
     ]
    },
    {
     "data": {
      "image/png": "[encoded data removed]",
      "text/plain": [
       "<Figure size 432x288 with 1 Axes>"
      ]
     },
     "metadata": {
      "needs_background": "light"
     },
     "output_type": "display_data"
    },
    {
     "name": "stdout",
     "output_type": "stream",
     "text": [
      "[0. 1. 0. 0. 0. 0. 0. 0. 0. 0.]\n"
     ]
    },
    {
     "data": {
      "image/png": "[encoded data removed]",
      "text/plain": [
       "<Figure size 432x288 with 1 Axes>"
      ]
     },
     "metadata": {
      "needs_background": "light"
     },
     "output_type": "display_data"
    },
    {
     "name": "stdout",
     "output_type": "stream",
     "text": [
      "[1. 0. 0. 0. 0. 0. 0. 0. 0. 0.]\n"
     ]
    },
    {
     "data": {
      "image/png": "[encoded data removed]",
      "text/plain": [
       "<Figure size 432x288 with 1 Axes>"
      ]
     },
     "metadata": {
      "needs_background": "light"
     },
     "output_type": "display_data"
    },
    {
     "name": "stdout",
     "output_type": "stream",
     "text": [
      "[0. 1. 0. 0. 0. 0. 0. 0. 0. 0.]\n"
     ]
    },
    {
     "data": {
      "image/png": "[encoded data removed]",
      "text/plain": [
       "<Figure size 432x288 with 1 Axes>"
      ]
     },
     "metadata": {
      "needs_background": "light"
     },
     "output_type": "display_data"
    },
    {
     "name": "stdout",
     "output_type": "stream",
     "text": [
      "[0. 0. 0. 0. 1. 0. 0. 0. 0. 0.]\n"
     ]
    },
    {
     "data": {
      "image/png": "[encoded data removed]",
      "text/plain": [
       "<Figure size 432x288 with 1 Axes>"
      ]
     },
     "metadata": {
      "needs_background": "light"
     },
     "output_type": "display_data"
    },
    {
     "name": "stdout",
     "output_type": "stream",
     "text": [
      "[0. 0. 1. 0. 0. 0. 0. 0. 0. 0.]\n"
     ]
    }
   ],
   "source": [
    "y_pred = model.predict(X_test)\n",
    "import numpy as np\n",
    "\n",
    "for i in range(9):\n",
    "  plt.subplot(330 + i +1)\n",
    "  plt.imshow(X_test[10+ i])\n",
    "  plt.show()  \n",
    "  print(np.round(y_pred[i + 10]))"
   ]
  },
  {
   "cell_type": "code",
   "execution_count": null,
   "id": "a9a10c55",
   "metadata": {
    "papermill": {
     "duration": 0.450467,
     "end_time": "2022-05-16T03:20:30.447415",
     "exception": false,
     "start_time": "2022-05-16T03:20:29.996948",
     "status": "completed"
    },
    "tags": []
   },
   "outputs": [],
   "source": []
  }
 ],
 "metadata": {
  "kernelspec": {
   "display_name": "Python 3",
   "language": "python",
   "name": "python3"
  },
  "language_info": {
   "codemirror_mode": {
    "name": "ipython",
    "version": 3
   },
   "file_extension": ".py",
   "mimetype": "text/x-python",
   "name": "python",
   "nbconvert_exporter": "python",
   "pygments_lexer": "ipython3",
   "version": "3.7.12"
  },
  "papermill": {
   "default_parameters": {},
   "duration": 119.455876,
   "end_time": "2022-05-16T03:20:34.443882",
   "environment_variables": {},
   "exception": null,
   "input_path": "__notebook__.ipynb",
   "output_path": "__notebook__.ipynb",
   "parameters": {},
   "start_time": "2022-05-16T03:18:34.988006",
   "version": "2.3.4"
  }
 },
 "nbformat": 4,
 "nbformat_minor": 5
}
